{
 "cells": [
  {
   "cell_type": "code",
   "execution_count": 1,
   "id": "f585f8a4",
   "metadata": {},
   "outputs": [],
   "source": [
    "import pandas as pd"
   ]
  },
  {
   "cell_type": "code",
   "execution_count": 2,
   "id": "930556b9",
   "metadata": {},
   "outputs": [],
   "source": [
    "df = pd.read_json('data.json')"
   ]
  },
  {
   "cell_type": "code",
   "execution_count": 3,
   "id": "8520eb7d",
   "metadata": {},
   "outputs": [
    {
     "data": {
      "text/html": [
       "<div>\n",
       "<style scoped>\n",
       "    .dataframe tbody tr th:only-of-type {\n",
       "        vertical-align: middle;\n",
       "    }\n",
       "\n",
       "    .dataframe tbody tr th {\n",
       "        vertical-align: top;\n",
       "    }\n",
       "\n",
       "    .dataframe thead th {\n",
       "        text-align: right;\n",
       "    }\n",
       "</style>\n",
       "<table border=\"1\" class=\"dataframe\">\n",
       "  <thead>\n",
       "    <tr style=\"text-align: right;\">\n",
       "      <th></th>\n",
       "      <th>id</th>\n",
       "      <th>namaLengkap</th>\n",
       "      <th>namaPanggilan</th>\n",
       "      <th>jurusan</th>\n",
       "      <th>tanggalLahir</th>\n",
       "      <th>linkedin</th>\n",
       "      <th>instagram</th>\n",
       "      <th>twitter</th>\n",
       "      <th>line</th>\n",
       "      <th>deskripsi</th>\n",
       "      <th>message</th>\n",
       "      <th>interests</th>\n",
       "    </tr>\n",
       "  </thead>\n",
       "  <tbody>\n",
       "    <tr>\n",
       "      <th>0</th>\n",
       "      <td>a-sherwyn-fawwaz-nitisara-suthaputra</td>\n",
       "      <td>A. Sherwyn Fawwaz Nitisara Suthaputra</td>\n",
       "      <td>Sherwyn</td>\n",
       "      <td>Sistem Informasi</td>\n",
       "      <td>26/03/2005</td>\n",
       "      <td>https://www.linkedin.com/in/sheraz26</td>\n",
       "      <td>shrwyn_fns</td>\n",
       "      <td></td>\n",
       "      <td>sherwyns2</td>\n",
       "      <td>Suka cobain hal baru seperti masuk Pacil. Butu...</td>\n",
       "      <td>Gaungkan angkatan kita!</td>\n",
       "      <td>[Data Analyst, Music, Badminton]</td>\n",
       "    </tr>\n",
       "    <tr>\n",
       "      <th>1</th>\n",
       "      <td>abby-shelley-tampubolon</td>\n",
       "      <td>Abby Shelley Tampubolon</td>\n",
       "      <td>Abby</td>\n",
       "      <td>Sistem Informasi</td>\n",
       "      <td>14/01/2005</td>\n",
       "      <td>https://www.linkedin.com/in/abby-shelley-tampu...</td>\n",
       "      <td>abbytamp</td>\n",
       "      <td>abbyciki</td>\n",
       "      <td>abbyciki</td>\n",
       "      <td>berponi sejak SD</td>\n",
       "      <td>semoga bisa lulus bareng-bareng</td>\n",
       "      <td>[Internet of Things/Robotics (IoT), Organizati...</td>\n",
       "    </tr>\n",
       "    <tr>\n",
       "      <th>2</th>\n",
       "      <td>abdul-zacky</td>\n",
       "      <td>Abdul Zacky</td>\n",
       "      <td>Zac</td>\n",
       "      <td>Sistem Informasi</td>\n",
       "      <td>29/09/2004</td>\n",
       "      <td>https://www.linkedin.com/in/abdulzacky</td>\n",
       "      <td>zacky.abd</td>\n",
       "      <td></td>\n",
       "      <td>zackyabdul</td>\n",
       "      <td>Young and Wild</td>\n",
       "      <td>Hi semuanyaaa</td>\n",
       "      <td>[Artificial Intelligence/Machine Learning (AI/...</td>\n",
       "    </tr>\n",
       "    <tr>\n",
       "      <th>3</th>\n",
       "      <td>abella-maya-santi</td>\n",
       "      <td>Abella Maya Santi</td>\n",
       "      <td>Abel</td>\n",
       "      <td>Sistem Informasi</td>\n",
       "      <td>12/01/2005</td>\n",
       "      <td>www.linkedin.com/in/abellamayasanti</td>\n",
       "      <td>@abellamayas</td>\n",
       "      <td>@abella_santi</td>\n",
       "      <td>abellamsjoesni</td>\n",
       "      <td>Bring me a kaleidoscope of words and I'll buil...</td>\n",
       "      <td>Tetap berjuang hingga tiga digit pun datang</td>\n",
       "      <td>[Golf, Business\\tIntelligence (BI), Entrepreneur]</td>\n",
       "    </tr>\n",
       "    <tr>\n",
       "      <th>4</th>\n",
       "      <td>abhiseka-susanto</td>\n",
       "      <td>Abhiseka Susanto</td>\n",
       "      <td>Abhi</td>\n",
       "      <td>Ilmu Komputer</td>\n",
       "      <td>06/01/2006</td>\n",
       "      <td>https://www.linkedin.com/in/abhiseka-susanto-5...</td>\n",
       "      <td>abhiseka.s</td>\n",
       "      <td></td>\n",
       "      <td>mehabhi</td>\n",
       "      <td>doakan selamat di pacil</td>\n",
       "      <td>Semoga kita bisa sukses bareng-bareng 🤲</td>\n",
       "      <td>[Software Engineer (SE), Web Development (WebD...</td>\n",
       "    </tr>\n",
       "  </tbody>\n",
       "</table>\n",
       "</div>"
      ],
      "text/plain": [
       "                                     id  \\\n",
       "0  a-sherwyn-fawwaz-nitisara-suthaputra   \n",
       "1               abby-shelley-tampubolon   \n",
       "2                           abdul-zacky   \n",
       "3                     abella-maya-santi   \n",
       "4                      abhiseka-susanto   \n",
       "\n",
       "                             namaLengkap namaPanggilan           jurusan  \\\n",
       "0  A. Sherwyn Fawwaz Nitisara Suthaputra       Sherwyn  Sistem Informasi   \n",
       "1                Abby Shelley Tampubolon          Abby  Sistem Informasi   \n",
       "2                            Abdul Zacky           Zac  Sistem Informasi   \n",
       "3                      Abella Maya Santi          Abel  Sistem Informasi   \n",
       "4                       Abhiseka Susanto          Abhi     Ilmu Komputer   \n",
       "\n",
       "  tanggalLahir                                           linkedin  \\\n",
       "0   26/03/2005               https://www.linkedin.com/in/sheraz26   \n",
       "1   14/01/2005  https://www.linkedin.com/in/abby-shelley-tampu...   \n",
       "2   29/09/2004             https://www.linkedin.com/in/abdulzacky   \n",
       "3   12/01/2005                www.linkedin.com/in/abellamayasanti   \n",
       "4   06/01/2006  https://www.linkedin.com/in/abhiseka-susanto-5...   \n",
       "\n",
       "      instagram        twitter            line  \\\n",
       "0    shrwyn_fns                      sherwyns2   \n",
       "1      abbytamp       abbyciki        abbyciki   \n",
       "2     zacky.abd                     zackyabdul   \n",
       "3  @abellamayas  @abella_santi  abellamsjoesni   \n",
       "4    abhiseka.s                        mehabhi   \n",
       "\n",
       "                                           deskripsi  \\\n",
       "0  Suka cobain hal baru seperti masuk Pacil. Butu...   \n",
       "1                                   berponi sejak SD   \n",
       "2                                     Young and Wild   \n",
       "3  Bring me a kaleidoscope of words and I'll buil...   \n",
       "4                            doakan selamat di pacil   \n",
       "\n",
       "                                       message  \\\n",
       "0                      Gaungkan angkatan kita!   \n",
       "1              semoga bisa lulus bareng-bareng   \n",
       "2                                Hi semuanyaaa   \n",
       "3  Tetap berjuang hingga tiga digit pun datang   \n",
       "4      Semoga kita bisa sukses bareng-bareng 🤲   \n",
       "\n",
       "                                           interests  \n",
       "0                   [Data Analyst, Music, Badminton]  \n",
       "1  [Internet of Things/Robotics (IoT), Organizati...  \n",
       "2  [Artificial Intelligence/Machine Learning (AI/...  \n",
       "3  [Golf, Business\\tIntelligence (BI), Entrepreneur]  \n",
       "4  [Software Engineer (SE), Web Development (WebD...  "
      ]
     },
     "execution_count": 3,
     "metadata": {},
     "output_type": "execute_result"
    }
   ],
   "source": [
    "df.head()"
   ]
  },
  {
   "cell_type": "code",
   "execution_count": 4,
   "id": "82336ea3",
   "metadata": {},
   "outputs": [
    {
     "data": {
      "text/plain": [
       "0                   https://www.linkedin.com/in/sheraz26\n",
       "1      https://www.linkedin.com/in/abby-shelley-tampu...\n",
       "2                 https://www.linkedin.com/in/abdulzacky\n",
       "3                    www.linkedin.com/in/abellamayasanti\n",
       "4      https://www.linkedin.com/in/abhiseka-susanto-5...\n",
       "                             ...                        \n",
       "421    https://www.linkedin.com/in/yovan-raju-2b6564289/\n",
       "422               https://www.linkedin.com/in/yudaynarif\n",
       "423    www.linkedin.com/in/zakiy-makarim-iskandar-dau...\n",
       "424             https://www.linkedin.com/in/zillan-ahmad\n",
       "425    https://www.linkedin.com/in/zufar-romli-amri-7...\n",
       "Name: linkedin, Length: 426, dtype: object"
      ]
     },
     "execution_count": 4,
     "metadata": {},
     "output_type": "execute_result"
    }
   ],
   "source": [
    "df['linkedin']"
   ]
  },
  {
   "cell_type": "code",
   "execution_count": 5,
   "id": "a28b599b",
   "metadata": {},
   "outputs": [],
   "source": [
    "df['linkedin'] = df['linkedin'].str.replace(r'^(https://)?(www.)?', 'https://', regex=True).str.split('?').str[0].str.rstrip('/')"
   ]
  },
  {
   "cell_type": "code",
   "execution_count": 6,
   "id": "06141f41",
   "metadata": {
    "scrolled": true
   },
   "outputs": [
    {
     "data": {
      "text/plain": [
       "0                       https://linkedin.com/in/sheraz26\n",
       "1      https://linkedin.com/in/abby-shelley-tampubolo...\n",
       "2                     https://linkedin.com/in/abdulzacky\n",
       "3                https://linkedin.com/in/abellamayasanti\n",
       "4      https://linkedin.com/in/abhiseka-susanto-55588...\n",
       "                             ...                        \n",
       "421         https://linkedin.com/in/yovan-raju-2b6564289\n",
       "422                   https://linkedin.com/in/yudaynarif\n",
       "423    https://linkedin.com/in/zakiy-makarim-iskandar...\n",
       "424                 https://linkedin.com/in/zillan-ahmad\n",
       "425    https://linkedin.com/in/zufar-romli-amri-70229...\n",
       "Name: linkedin, Length: 426, dtype: object"
      ]
     },
     "execution_count": 6,
     "metadata": {},
     "output_type": "execute_result"
    }
   ],
   "source": [
    "df['linkedin']"
   ]
  },
  {
   "cell_type": "code",
   "execution_count": 7,
   "id": "4c269191",
   "metadata": {
    "scrolled": true
   },
   "outputs": [
    {
     "data": {
      "text/plain": [
       "0        shrwyn_fns\n",
       "1          abbytamp\n",
       "2         zacky.abd\n",
       "3      @abellamayas\n",
       "4        abhiseka.s\n",
       "           ...     \n",
       "421      yovan_raju\n",
       "422     yudayn.arif\n",
       "423     daulayzakiy\n",
       "424       zillan___\n",
       "425        zufarr.a\n",
       "Name: instagram, Length: 426, dtype: object"
      ]
     },
     "execution_count": 7,
     "metadata": {},
     "output_type": "execute_result"
    }
   ],
   "source": [
    "df['instagram']"
   ]
  },
  {
   "cell_type": "code",
   "execution_count": 8,
   "id": "3a9b2828",
   "metadata": {
    "scrolled": true
   },
   "outputs": [
    {
     "data": {
      "text/plain": [
       "0                   \n",
       "1           abbyciki\n",
       "2                   \n",
       "3      @abella_santi\n",
       "4                   \n",
       "           ...      \n",
       "421                 \n",
       "422                 \n",
       "423                 \n",
       "424            gaada\n",
       "425                 \n",
       "Name: twitter, Length: 426, dtype: object"
      ]
     },
     "execution_count": 8,
     "metadata": {},
     "output_type": "execute_result"
    }
   ],
   "source": [
    "df['twitter']"
   ]
  },
  {
   "cell_type": "code",
   "execution_count": 9,
   "id": "b89780bf",
   "metadata": {},
   "outputs": [],
   "source": [
    "df['instagram'] = df['instagram'].str.strip('@')\n",
    "df['twitter'] = df['twitter'].str.strip('@')"
   ]
  },
  {
   "cell_type": "code",
   "execution_count": 10,
   "id": "7dd15e9a",
   "metadata": {},
   "outputs": [
    {
     "data": {
      "text/plain": [
       "0       shrwyn_fns\n",
       "1         abbytamp\n",
       "2        zacky.abd\n",
       "3      abellamayas\n",
       "4       abhiseka.s\n",
       "          ...     \n",
       "421     yovan_raju\n",
       "422    yudayn.arif\n",
       "423    daulayzakiy\n",
       "424      zillan___\n",
       "425       zufarr.a\n",
       "Name: instagram, Length: 426, dtype: object"
      ]
     },
     "execution_count": 10,
     "metadata": {},
     "output_type": "execute_result"
    }
   ],
   "source": [
    "df['instagram']"
   ]
  },
  {
   "cell_type": "code",
   "execution_count": 11,
   "id": "98cb21e6",
   "metadata": {},
   "outputs": [
    {
     "data": {
      "text/plain": [
       "0                  \n",
       "1          abbyciki\n",
       "2                  \n",
       "3      abella_santi\n",
       "4                  \n",
       "           ...     \n",
       "421                \n",
       "422                \n",
       "423                \n",
       "424           gaada\n",
       "425                \n",
       "Name: twitter, Length: 426, dtype: object"
      ]
     },
     "execution_count": 11,
     "metadata": {},
     "output_type": "execute_result"
    }
   ],
   "source": [
    "df['twitter']"
   ]
  },
  {
   "cell_type": "code",
   "execution_count": 12,
   "id": "22b808fb",
   "metadata": {},
   "outputs": [],
   "source": [
    "df.to_json('cleaned.json', orient='records')"
   ]
  }
 ],
 "metadata": {
  "kernelspec": {
   "display_name": "Python 3 (ipykernel)",
   "language": "python",
   "name": "python3"
  },
  "language_info": {
   "codemirror_mode": {
    "name": "ipython",
    "version": 3
   },
   "file_extension": ".py",
   "mimetype": "text/x-python",
   "name": "python",
   "nbconvert_exporter": "python",
   "pygments_lexer": "ipython3",
   "version": "3.11.5"
  }
 },
 "nbformat": 4,
 "nbformat_minor": 5
}
